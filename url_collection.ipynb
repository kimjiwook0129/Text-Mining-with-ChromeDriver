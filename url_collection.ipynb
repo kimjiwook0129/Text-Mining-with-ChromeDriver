{
 "cells": [
  {
   "cell_type": "code",
   "execution_count": 1,
   "metadata": {},
   "outputs": [
    {
     "name": "stdout",
     "output_type": "stream",
     "text": [
      "Requirement already satisfied: selenium in /anaconda3/envs/pybook/lib/python3.7/site-packages (3.141.0)\n",
      "Requirement already satisfied: beautifulsoup4 in /anaconda3/envs/pybook/lib/python3.7/site-packages (4.9.3)\n",
      "Requirement already satisfied: urllib3 in /anaconda3/envs/pybook/lib/python3.7/site-packages (from selenium) (1.26.6)\n",
      "Requirement already satisfied: soupsieve>1.2 in /anaconda3/envs/pybook/lib/python3.7/site-packages (from beautifulsoup4) (2.2.1)\n"
     ]
    }
   ],
   "source": [
    "!pip install selenium beautifulsoup4"
   ]
  },
  {
   "cell_type": "code",
   "execution_count": 1,
   "metadata": {},
   "outputs": [],
   "source": [
    "# -*- coding: utf-8 -*-\n",
    "\n",
    "%matplotlib inline\n",
    "\n",
    "import pandas as pd\n",
    "import numpy as np\n",
    "import matplotlib.pyplot as plt\n",
    "\n",
    "import warnings\n",
    "warnings.filterwarnings(\"ignore\")\n",
    "\n",
    "from selenium import webdriver\n",
    "from bs4 import BeautifulSoup"
   ]
  },
  {
   "cell_type": "code",
   "execution_count": 2,
   "metadata": {},
   "outputs": [],
   "source": [
    "driver_path = \"/usr/local/bin/chromedriver\""
   ]
  },
  {
   "cell_type": "code",
   "execution_count": 3,
   "metadata": {},
   "outputs": [],
   "source": [
    "source_url = \"https://namu.wiki/RecentChanges\""
   ]
  },
  {
   "cell_type": "code",
   "execution_count": 7,
   "metadata": {},
   "outputs": [],
   "source": [
    "# Activating ChromeDriver\n",
    "driver = webdriver.Chrome(driver_path)\n",
    "driver.get(source_url)"
   ]
  },
  {
   "cell_type": "code",
   "execution_count": 8,
   "metadata": {},
   "outputs": [],
   "source": [
    "req = driver.page_source\n",
    "soup = BeautifulSoup(req, \"html.parser\")\n",
    "contents_table = soup.find(name=\"table\")\n",
    "table_body = contents_table.find(name=\"tbody\")\n",
    "table_rows = table_body.find_all(name=\"tr\")"
   ]
  },
  {
   "cell_type": "code",
   "execution_count": 9,
   "metadata": {},
   "outputs": [],
   "source": [
    "page_url_base = \"https://namu.wiki\""
   ]
  },
  {
   "cell_type": "code",
   "execution_count": 10,
   "metadata": {},
   "outputs": [],
   "source": [
    "page_urls = []\n",
    "for index in range(0, len(table_rows)):\n",
    "    first_td = table_rows[index].find_all(\"td\")[0]\n",
    "    td_url = first_td.find_all(\"a\")\n",
    "    if len(td_url) > 0:\n",
    "        page_url = page_url_base + td_url[0].get(\"href\")\n",
    "        if \"png\" not in page_url:\n",
    "            page_urls.append(page_url)\n",
    "\n",
    "page_urls = list(set(page_urls)) # Remove duplicates"
   ]
  },
  {
   "cell_type": "code",
   "execution_count": 11,
   "metadata": {},
   "outputs": [
    {
     "name": "stdout",
     "output_type": "stream",
     "text": [
      "https://namu.wiki/w/%ED%94%BC%EC%95%84%EB%8B%88%EC%8A%A4%ED%8A%B8(%EB%A1%9C%EB%A7%8C%20%ED%8F%B4%EB%9E%80%EC%8A%A4%ED%82%A4%20%EC%98%81%ED%99%94)\n",
      "https://namu.wiki/w/%EC%A0%9C1%EC%B0%A8%20%EC%84%B8%EA%B3%84%20%EB%8C%80%EC%A0%84\n",
      "https://namu.wiki/w/%EA%B9%80%EC%98%81%EB%82%A8\n",
      "https://namu.wiki/w/%ED%9C%B4%EC%8A%A4%ED%84%B4%20%EC%95%A0%EC%8A%A4%ED%8A%B8%EB%A1%9C%EC%8A%A4/2021%EB%85%84\n",
      "https://namu.wiki/w/2020%20%EB%8F%84%EC%BF%84%20%EC%98%AC%EB%A6%BC%ED%94%BD/%EC%B6%95%EA%B5%AC(%EB%82%A8%EC%9E%90)/B%EC%A1%B0\n"
     ]
    }
   ],
   "source": [
    "for page in page_urls[:5]:\n",
    "    print(page)"
   ]
  },
  {
   "cell_type": "code",
   "execution_count": 12,
   "metadata": {},
   "outputs": [],
   "source": [
    "driver.close() # Closing ChromeDriver"
   ]
  },
  {
   "cell_type": "code",
   "execution_count": 13,
   "metadata": {},
   "outputs": [],
   "source": [
    "with open(\"urls.txt\", \"w\") as f:\n",
    "    for url in page_urls:\n",
    "        f.write(f'{url}\\n')"
   ]
  },
  {
   "cell_type": "markdown",
   "metadata": {},
   "source": []
  }
 ],
 "metadata": {
  "kernelspec": {
   "display_name": "Python 3.7.10 64-bit ('pybook': conda)",
   "name": "python3710jvsc74a57bd04e139b7d2cabf105a0d47f37f0c5f9369074f0290cb2ec7e542267ceb7c9dfd4"
  },
  "language_info": {
   "codemirror_mode": {
    "name": "ipython",
    "version": 3
   },
   "file_extension": ".py",
   "mimetype": "text/x-python",
   "name": "python",
   "nbconvert_exporter": "python",
   "pygments_lexer": "ipython3",
   "version": "3.7.10"
  },
  "orig_nbformat": 3
 },
 "nbformat": 4,
 "nbformat_minor": 2
}