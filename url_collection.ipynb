{
 "cells": [
  {
   "cell_type": "code",
   "execution_count": 2,
   "metadata": {},
   "outputs": [
    {
     "name": "stdout",
     "output_type": "stream",
     "text": [
      "Requirement already satisfied: selenium in /anaconda3/envs/pybook/lib/python3.7/site-packages (3.141.0)\n",
      "Requirement already satisfied: beautifulsoup4 in /anaconda3/envs/pybook/lib/python3.7/site-packages (4.6.0)\n",
      "Requirement already satisfied: pandas in /anaconda3/envs/pybook/lib/python3.7/site-packages (1.3.1)\n",
      "Requirement already satisfied: numpy in /anaconda3/envs/pybook/lib/python3.7/site-packages (1.21.1)\n",
      "Requirement already satisfied: urllib3 in /anaconda3/envs/pybook/lib/python3.7/site-packages (from selenium) (1.26.6)\n",
      "Requirement already satisfied: pytz>=2017.3 in /anaconda3/envs/pybook/lib/python3.7/site-packages (from pandas) (2021.1)\n",
      "Requirement already satisfied: python-dateutil>=2.7.3 in /anaconda3/envs/pybook/lib/python3.7/site-packages (from pandas) (2.8.2)\n",
      "Requirement already satisfied: six>=1.5 in /anaconda3/envs/pybook/lib/python3.7/site-packages (from python-dateutil>=2.7.3->pandas) (1.16.0)\n"
     ]
    }
   ],
   "source": [
    "!pip install selenium beautifulsoup4 pandas numpy"
   ]
  },
  {
   "cell_type": "code",
   "execution_count": 3,
   "metadata": {},
   "outputs": [],
   "source": [
    "# -*- coding: utf-8 -*-\n",
    "\n",
    "%matplotlib inline\n",
    "\n",
    "import pandas as pd\n",
    "import numpy as np\n",
    "import matplotlib.pyplot as plt\n",
    "\n",
    "import warnings\n",
    "warnings.filterwarnings(\"ignore\")\n",
    "\n",
    "from selenium import webdriver\n",
    "from bs4 import BeautifulSoup"
   ]
  },
  {
   "cell_type": "code",
   "execution_count": 4,
   "metadata": {},
   "outputs": [],
   "source": [
    "driver_path = \"/usr/local/bin/chromedriver\""
   ]
  },
  {
   "cell_type": "code",
   "execution_count": 5,
   "metadata": {},
   "outputs": [],
   "source": [
    "source_url = \"https://namu.wiki/RecentChanges\""
   ]
  },
  {
   "cell_type": "code",
   "execution_count": 6,
   "metadata": {},
   "outputs": [],
   "source": [
    "# Activating ChromeDriver\n",
    "driver = webdriver.Chrome(driver_path)\n",
    "driver.get(source_url)"
   ]
  },
  {
   "cell_type": "code",
   "execution_count": 7,
   "metadata": {},
   "outputs": [],
   "source": [
    "# Parsing Process below is based on the source_url's html structure\n",
    "req = driver.page_source\n",
    "soup = BeautifulSoup(req, \"html.parser\")\n",
    "contents_table = soup.find(name=\"table\")\n",
    "table_body = contents_table.find(name=\"tbody\")\n",
    "table_rows = table_body.find_all(name=\"tr\")"
   ]
  },
  {
   "cell_type": "code",
   "execution_count": 8,
   "metadata": {},
   "outputs": [],
   "source": [
    "page_url_base = \"https://namu.wiki\""
   ]
  },
  {
   "cell_type": "code",
   "execution_count": 9,
   "metadata": {},
   "outputs": [],
   "source": [
    "page_urls = []\n",
    "for index in range(0, len(table_rows)):\n",
    "    first_td = table_rows[index].find_all(\"td\")[0]\n",
    "    td_url = first_td.find_all(\"a\")\n",
    "    if len(td_url) > 0:\n",
    "        page_url = page_url_base + td_url[0].get(\"href\")\n",
    "        if \"png\" not in page_url:\n",
    "            page_urls.append(page_url)\n",
    "\n",
    "page_urls = list(set(page_urls)) # Remove duplicates"
   ]
  },
  {
   "cell_type": "code",
   "execution_count": 10,
   "metadata": {},
   "outputs": [
    {
     "name": "stdout",
     "output_type": "stream",
     "text": [
      "['https://namu.wiki/w/%EC%9B%90%ED%94%BC%EC%8A%A4(%EC%95%A0%EB%8B%88%EB%A9%94%EC%9D%B4%EC%85%98)/%ED%9A%8C%EC%B0%A8%20%EB%AA%A9%EB%A1%9D', 'https://namu.wiki/w/%EB%AA%AC%EC%8A%A4%ED%84%B0%ED%97%8C%ED%84%B0%20%EC%8A%A4%ED%86%A0%EB%A6%AC%EC%A6%88%202%20%ED%8C%8C%EB%A9%B8%EC%9D%98%20%EB%82%A0%EA%B0%9C/%EB%93%B1%EC%9E%A5%20%EB%AA%AC%EC%8A%A4%ED%84%B0', 'https://namu.wiki/w/%EC%B2%A0%EB%8F%84%20%EC%82%AC%ED%9A%8C%EB%B3%B5%EB%AC%B4%EC%9A%94%EC%9B%90']\n"
     ]
    }
   ],
   "source": [
    "print(page_urls[:3])"
   ]
  },
  {
   "cell_type": "code",
   "execution_count": 11,
   "metadata": {},
   "outputs": [],
   "source": [
    "driver.close() # Closing ChromeDriver"
   ]
  },
  {
   "cell_type": "code",
   "execution_count": 13,
   "metadata": {},
   "outputs": [],
   "source": [
    "with open(\"data/urls.txt\", \"w\") as f:\n",
    "    for url in page_urls:\n",
    "        f.write(f'{url}\\n')"
   ]
  },
  {
   "cell_type": "markdown",
   "metadata": {},
   "source": []
  }
 ],
 "metadata": {
  "kernelspec": {
   "display_name": "Python 3.7.10 64-bit ('pybook': conda)",
   "name": "python3710jvsc74a57bd04e139b7d2cabf105a0d47f37f0c5f9369074f0290cb2ec7e542267ceb7c9dfd4"
  },
  "language_info": {
   "codemirror_mode": {
    "name": "ipython",
    "version": 3
   },
   "file_extension": ".py",
   "mimetype": "text/x-python",
   "name": "python",
   "nbconvert_exporter": "python",
   "pygments_lexer": "ipython3",
   "version": "3.7.10"
  },
  "orig_nbformat": 3
 },
 "nbformat": 4,
 "nbformat_minor": 2
}