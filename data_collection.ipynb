{
 "cells": [
  {
   "cell_type": "code",
   "execution_count": null,
   "metadata": {},
   "outputs": [],
   "source": [
    "!pip install sqlalchemy"
   ]
  },
  {
   "cell_type": "code",
   "execution_count": 2,
   "metadata": {},
   "outputs": [],
   "source": [
    "%matplotlib inline\n",
    "\n",
    "import pandas as pd\n",
    "import numpy as np\n",
    "import matplotlib.pyplot as plt\n",
    "from sqlalchemy import create_engine\n",
    "\n",
    "import warnings\n",
    "warnings.filterwarnings(\"ignore\")\n",
    "\n",
    "from selenium import webdriver\n",
    "from bs4 import BeautifulSoup\n"
   ]
  },
  {
   "cell_type": "code",
   "execution_count": 3,
   "metadata": {},
   "outputs": [],
   "source": [
    "columns = ['title', 'category', 'content']\n",
    "df = pd.DataFrame(columns=columns)"
   ]
  },
  {
   "cell_type": "code",
   "execution_count": 4,
   "metadata": {},
   "outputs": [
    {
     "name": "stdout",
     "output_type": "stream",
     "text": [
      "['https://namu.wiki/w/%ED%94%BC%EC%95%84%EB%8B%88%EC%8A%A4%ED%8A%B8(%EB%A1%9C%EB%A7%8C%20%ED%8F%B4%EB%9E%80%EC%8A%A4%ED%82%A4%20%EC%98%81%ED%99%94)', 'https://namu.wiki/w/%EC%A0%9C1%EC%B0%A8%20%EC%84%B8%EA%B3%84%20%EB%8C%80%EC%A0%84', 'https://namu.wiki/w/%EA%B9%80%EC%98%81%EB%82%A8']\n"
     ]
    }
   ],
   "source": [
    "page_urls = []\n",
    "f = open('data/urls.txt', 'r')\n",
    "lines = f.readlines()\n",
    "f.close()\n",
    "for line in lines:\n",
    "    page_urls.append(line.strip())\n",
    "print(page_urls[:3])"
   ]
  },
  {
   "cell_type": "code",
   "execution_count": 5,
   "metadata": {},
   "outputs": [],
   "source": [
    "driver_path = \"/usr/local/bin/chromedriver\""
   ]
  },
  {
   "cell_type": "code",
   "execution_count": 6,
   "metadata": {},
   "outputs": [],
   "source": [
    "for page_url in page_urls:\n",
    "    driver = webdriver.Chrome(driver_path)\n",
    "    driver.get(page_url)\n",
    "    req = driver.page_source\n",
    "    driver.close()\n",
    "    soup = BeautifulSoup(req, \"html.parser\")\n",
    "    contents_table = soup.find(name=\"article\")\n",
    "    title = contents_table.find_all(\"h1\")[0]\n",
    "    \n",
    "    if len(contents_table.find_all(\"ul\")) > 0:\n",
    "        category = contents_table.find_all(\"ul\")[0]\n",
    "    else:\n",
    "        category = None\n",
    "        \n",
    "    content_paragraphs = contents_table.find_all(name=\"div\", attrs={\"class\":\"wiki-paragraph\"})\n",
    "    content_corpus_list = []\n",
    "    \n",
    "    if title is not None:\n",
    "        row_title = title.text.replace(\"\\n\", \" \")\n",
    "    else:\n",
    "        row_title = \"\"\n",
    "    \n",
    "    if content_paragraphs is not None:\n",
    "        for paragraphs in content_paragraphs:\n",
    "            if paragraphs is not None:\n",
    "                content_corpus_list.append(paragraphs.text.replace(\"\\n\", \" \"))\n",
    "            else:\n",
    "                content_corpus_list.append(\"\")\n",
    "    else:\n",
    "        content_corpus_list.append(\"\")\n",
    "    \n",
    "    if category is not None:\n",
    "        row_category = category.text.replace(\"\\n\", \" \")\n",
    "    else:\n",
    "        row_category = \"\"\n",
    "    \n",
    "    row = [row_title, row_category, \"\".join(content_corpus_list)]\n",
    "    series = pd.Series(row, index=df.columns)\n",
    "    df = df.append(series, ignore_index=True)"
   ]
  },
  {
   "cell_type": "code",
   "execution_count": 7,
   "metadata": {},
   "outputs": [
    {
     "data": {
      "text/html": "<div>\n<style scoped>\n    .dataframe tbody tr th:only-of-type {\n        vertical-align: middle;\n    }\n\n    .dataframe tbody tr th {\n        vertical-align: top;\n    }\n\n    .dataframe thead th {\n        text-align: right;\n    }\n</style>\n<table border=\"1\" class=\"dataframe\">\n  <thead>\n    <tr style=\"text-align: right;\">\n      <th></th>\n      <th>title</th>\n      <th>category</th>\n      <th>content</th>\n    </tr>\n  </thead>\n  <tbody>\n    <tr>\n      <th>0</th>\n      <td>피아니스트(로만 폴란스키 영화)</td>\n      <td>2002년 영화홀로코스트 영화실화 바탕 영화폴란드 영화프랑스 영화영국 영화독일 영화...</td>\n      <td>로만 폴란스키 감독 장편 연출 작품 [ 펼치기 · 접기 ]  피아니스트의 주요 수상...</td>\n    </tr>\n    <tr>\n      <th>1</th>\n      <td>제1차 세계 대전</td>\n      <td>제1차 세계 대전</td>\n      <td>제1차 세계 대전 관련 틀 [ 펼치기 · 접기 ]제1차 세계 대전 참전국 [ 펼치기...</td>\n    </tr>\n    <tr>\n      <th>2</th>\n      <td>김영남</td>\n      <td>최고인민회의 상임위원장북한 외무상조선로동당 국제비서조선로동당 6기 정치국 상무위원조...</td>\n      <td>은(는) 여기로 연결됩니다. 동명이인에 대한 내용은 김영남(동명이인) 문서를의...</td>\n    </tr>\n    <tr>\n      <th>3</th>\n      <td>휴스턴 애스트로스/2021년</td>\n      <td>휴스턴 애스트로스메이저 리그 베이스볼/2021년</td>\n      <td>상위 문서: 휴스턴 애스트로스/역사 휴스턴 애스트로스 2021시즌지구 순위경기...</td>\n    </tr>\n    <tr>\n      <th>4</th>\n      <td>2020 도쿄 올림픽/축구(남자)/B조</td>\n      <td>2020 도쿄 올림픽</td>\n      <td>상위 문서: 2020 도쿄 올림픽/축구(남자) 축구 축구 [ 펼치기 · 접기 ...</td>\n    </tr>\n  </tbody>\n</table>\n</div>",
      "text/plain": "                    title                                           category  \\\n0      피아니스트(로만 폴란스키 영화)   2002년 영화홀로코스트 영화실화 바탕 영화폴란드 영화프랑스 영화영국 영화독일 영화...   \n1              제1차 세계 대전                                           제1차 세계 대전   \n2                    김영남   최고인민회의 상임위원장북한 외무상조선로동당 국제비서조선로동당 6기 정치국 상무위원조...   \n3        휴스턴 애스트로스/2021년                          휴스턴 애스트로스메이저 리그 베이스볼/2021년   \n4  2020 도쿄 올림픽/축구(남자)/B조                                         2020 도쿄 올림픽   \n\n                                             content  \n0  로만 폴란스키 감독 장편 연출 작품 [ 펼치기 · 접기 ]  피아니스트의 주요 수상...  \n1  제1차 세계 대전 관련 틀 [ 펼치기 · 접기 ]제1차 세계 대전 참전국 [ 펼치기...  \n2     은(는) 여기로 연결됩니다. 동명이인에 대한 내용은 김영남(동명이인) 문서를의...  \n3     상위 문서: 휴스턴 애스트로스/역사 휴스턴 애스트로스 2021시즌지구 순위경기...  \n4     상위 문서: 2020 도쿄 올림픽/축구(남자) 축구 축구 [ 펼치기 · 접기 ...  "
     },
     "execution_count": 7,
     "metadata": {},
     "output_type": "execute_result"
    }
   ],
   "source": [
    "df.head()"
   ]
  },
  {
   "cell_type": "code",
   "execution_count": 15,
   "metadata": {},
   "outputs": [],
   "source": [
    "engine = create_engine('sqlite:///data.db', echo=False)"
   ]
  },
  {
   "cell_type": "code",
   "execution_count": 16,
   "metadata": {},
   "outputs": [],
   "source": [
    "df.to_sql('data/data.db', con=engine, index_label='ID')"
   ]
  }
 ],
 "metadata": {
  "kernelspec": {
   "display_name": "Python 3.7.10 64-bit ('pybook': conda)",
   "name": "python3710jvsc74a57bd04e139b7d2cabf105a0d47f37f0c5f9369074f0290cb2ec7e542267ceb7c9dfd4"
  },
  "language_info": {
   "codemirror_mode": {
    "name": "ipython",
    "version": 3
   },
   "file_extension": ".py",
   "mimetype": "text/x-python",
   "name": "python",
   "nbconvert_exporter": "python",
   "pygments_lexer": "ipython3",
   "version": "3.7.10"
  },
  "orig_nbformat": 2
 },
 "nbformat": 4,
 "nbformat_minor": 2
}